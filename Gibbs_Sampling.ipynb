{
 "cells": [
  {
   "cell_type": "code",
   "execution_count": 1,
   "metadata": {
    "collapsed": true
   },
   "outputs": [],
   "source": [
    "import numpy as np\n",
    "#import matplotlib.pyplot as plt\n",
    "import pandas as pd"
   ]
  },
  {
   "cell_type": "markdown",
   "metadata": {},
   "source": [
    "# Task 1 : Implement a sampler for the conditional distribution p(β0 |β1,β2,μ0, τ0,τ,X,y)"
   ]
  },
  {
   "cell_type": "code",
   "execution_count": 2,
   "metadata": {
    "collapsed": true
   },
   "outputs": [],
   "source": [
    "# ##############################################################################\n",
    "# Returns a single sample from the conditional distribution p(beta_0 | beta_1, beta_2, tau, mu_0, tau_0, X, y)\n",
    "# ##############################################################################\n",
    "def sample_beta_0(y, x, beta_1, beta_2, tau, mu_0, tau_0):\n",
    "    N = len(y)\n",
    "    assert len(x) == N\n",
    "    # TODO: Task 1 - Implement a sample from the conditional distribution for beta_0\n",
    "    return np.random.normal(0, 1.0 / np.sqrt(tau_0))"
   ]
  },
  {
   "cell_type": "markdown",
   "metadata": {},
   "source": [
    "# Task 2: Implement a sampler for the conditional distribution p(β1|β0,β2,μ1,τ1,τ,X,y)"
   ]
  },
  {
   "cell_type": "code",
   "execution_count": 3,
   "metadata": {
    "collapsed": true
   },
   "outputs": [],
   "source": [
    "# ##############################################################################\n",
    "# Returns a single sample from the conditional distribution p(beta_1 | beta_0, beta_2, tau, mu_1, tau_1, X, y)\n",
    "# ##############################################################################\n",
    "def sample_beta_1(y, x, beta_0, beta_2, tau, mu_1, tau_1):\n",
    "    N = len(y)\n",
    "    assert len(x) == N\n",
    "    # TODO: Task 2 - Implement a sample from the conditional distribution for beta_1\n",
    "    return np.random.normal(mu_1, 1 / np.sqrt(tau_1))\n"
   ]
  },
  {
   "cell_type": "markdown",
   "metadata": {},
   "source": [
    "# Task 3: Implement a sampler for the conditional distribution p(β2 |β0,β1,μ2,τ2,τ,X,y)"
   ]
  },
  {
   "cell_type": "code",
   "execution_count": 4,
   "metadata": {
    "collapsed": true
   },
   "outputs": [],
   "source": [
    "# ##############################################################################\n",
    "# Returns a single sample from the conditional distribution p(beta_2 | beta_0, beta_1, tau, mu_2, tau_2, X, y)\n",
    "# ##############################################################################\n",
    "def sample_beta_2(y, x, beta_0, beta_1, tau, mu_2, tau_2):\n",
    "    N = len(y)\n",
    "    assert len(x) == N\n",
    "    # TODO: Task 3 - Implement a sample from the conditional distribution for beta_2\n",
    "    return np.random.normal(mu_2, 1 / np.sqrt(tau_2))"
   ]
  },
  {
   "cell_type": "markdown",
   "metadata": {},
   "source": [
    "# Task 4 : Implement a sampler for the conditional distribution  p(τ|β 0,β1,β2,α,β,X,y)"
   ]
  },
  {
   "cell_type": "code",
   "execution_count": 5,
   "metadata": {
    "collapsed": true
   },
   "outputs": [],
   "source": [
    "# ##############################################################################\n",
    "# Returns a single sample from the conditional distribution p(tau | beta_0, beta_1, beta_2, alpha, beta, X, y)\n",
    "# ##############################################################################\n",
    "def sample_tau(y, x, beta_0, beta_1, beta_2, alpha, beta):\n",
    "    N = len(y)\n",
    "    # TODO: Task 4 - Implement a sample from the conditional distribution for tau\n",
    "    return np.random.gamma(alpha, 1 / beta)"
   ]
  },
  {
   "cell_type": "markdown",
   "metadata": {},
   "source": [
    "# Task 5 (Gibbs sampler): Implement the Gibbs sampler using the conditional distributions from Tasks 1–4."
   ]
  },
  {
   "cell_type": "code",
   "execution_count": 6,
   "metadata": {
    "collapsed": true
   },
   "outputs": [],
   "source": [
    "# ##############################################################################\n",
    "# Performs Gibbs sampling using the conditional distributions and returns the\n",
    "# trace of the sampling process\n",
    "# ##############################################################################\n",
    "def gibbs(y, x, iters, init, hypers):\n",
    "    assert len(y) == len(x)\n",
    "    beta_0 = init[\"beta_0\"]\n",
    "    beta_1 = init[\"beta_1\"]\n",
    "    beta_2 = init[\"beta_2\"]\n",
    "    tau = init[\"tau\"]\n",
    "\n",
    "    trace = np.zeros((iters, 4))  ## trace to store values of beta_0, beta_1, beta_2, tau\n",
    "\n",
    "    for it in range(iters):\n",
    "        # TODO: Task 5 - Implement a Gibbs sampler\n",
    "        trace[it, :] = np.array((beta_0, beta_1, beta_2, tau))\n",
    "\n",
    "    trace = pd.DataFrame(trace)\n",
    "    trace.columns = ['beta_0', 'beta_1', 'beta_2', 'tau']\n",
    "\n",
    "    return trace"
   ]
  },
  {
   "cell_type": "code",
   "execution_count": null,
   "metadata": {
    "collapsed": true
   },
   "outputs": [],
   "source": []
  }
 ],
 "metadata": {
  "kernelspec": {
   "display_name": "Python 3",
   "language": "python",
   "name": "python3"
  },
  "language_info": {
   "codemirror_mode": {
    "name": "ipython",
    "version": 3
   },
   "file_extension": ".py",
   "mimetype": "text/x-python",
   "name": "python",
   "nbconvert_exporter": "python",
   "pygments_lexer": "ipython3",
   "version": "3.5.3"
  }
 },
 "nbformat": 4,
 "nbformat_minor": 2
}
