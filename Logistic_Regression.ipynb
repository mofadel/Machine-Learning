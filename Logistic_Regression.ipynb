{
 "cells": [
  {
   "cell_type": "markdown",
   "metadata": {},
   "source": [
    "# Logistic regression tutorial "
   ]
  },
  {
   "cell_type": "code",
   "execution_count": 1,
   "metadata": {
    "collapsed": true
   },
   "outputs": [],
   "source": [
    "## Do **not** change this cell, and do **not** import\n",
    "## any other modules anywhere in the notebook.\n",
    "import numpy as np\n",
    "import numpy.random as rn\n",
    "from scipy import optimize, stats\n",
    "import scipy.linalg as linalg\n",
    "import matplotlib.pyplot as plt\n",
    "\n",
    "%matplotlib inline"
   ]
  },
  {
   "cell_type": "markdown",
   "metadata": {
    "collapsed": true
   },
   "source": [
    "In this tutorial we're going to cover the basics behind logistic regression. For simplicity we will only consider the binary classification case, in which target variables are $y \\in \\{0,1\\}$. \n",
    "\n",
    "In logistic regression, the probability of a data point $\\boldsymbol x$ being of class 1 is given by\n",
    "\n",
    "$$p(y = 1 | \\boldsymbol x, \\boldsymbol\\theta) = \\sigma (\\boldsymbol x^\\top \\boldsymbol\\theta) ~ ,$$\n",
    "\n",
    "where $\\sigma(z) = 1/(1+\\exp(-z))$ is the _sigmoid_ function.\n",
    "\n",
    "Combining this with a Bernoulli likelihood and summing over all datapoints $\\{\\boldsymbol x_i, y_i\\}_{i=1}^N$ we end up with a negative log-likelihood function that looks like this:\n",
    "\n",
    "$$-\\log p(\\boldsymbol y|\\boldsymbol X, \\boldsymbol\\theta) = -\\sum_i\\left(y_i \\log \\sigma(\\boldsymbol x_i^\\top \\boldsymbol\\theta) + (1 - y_i) \\log ( 1 - \\sigma(\\boldsymbol x_i^\\top \\boldsymbol\\theta))\\right)$$\n",
    "\n",
    "You will see this expression in many other classification problems, especially in deep learning, where it's known as the _cross-entropy loss_.\n",
    "\n",
    "Your goal in this tutorial is to learn how to perform inference over the parameters $\\boldsymbol\\theta$ in logistic regression, including point estimates $\\boldsymbol\\theta_{\\mathrm{ML}}$ and $\\boldsymbol\\theta_{\\mathrm{MAP}}$ and approximations to the posterior $p(\\boldsymbol\\theta | \\boldsymbol X, \\boldsymbol y)$.\n",
    "\n",
    "Let's do it."
   ]
  },
  {
   "cell_type": "markdown",
   "metadata": {
    "collapsed": true
   },
   "source": [
    "## Maximum likelihood estimate"
   ]
  },
  {
   "cell_type": "markdown",
   "metadata": {},
   "source": [
    "Let's start easy. First, let's generate a toy 1D binary dataset with two paramaters:\n",
    "\n",
    "* A **jitter** parameter that controls how noisy the data are; and\n",
    "* An **offset** parameter that controls the separation between the two classes."
   ]
  },
  {
   "cell_type": "code",
   "execution_count": 2,
   "metadata": {
    "collapsed": false
   },
   "outputs": [],
   "source": [
    "# Data generation parameters\n",
    "N = 50\n",
    "D = 2\n",
    "jitter = 0.7\n",
    "offset = 1.2\n",
    "\n",
    "# Generate the data\n",
    "x = np.vstack([rn.normal(0, jitter, (N//2,1)), rn.normal(offset, jitter, (N//2,1))])\n",
    "y = np.vstack([np.zeros((N//2, 1)), np.ones((N//2, 1))])\n",
    "x_test = np.linspace(-2, offset + 2).reshape(-1,1)\n",
    "\n",
    "# Make the augmented data matrix by adding a column of ones\n",
    "x = np.hstack([np.ones((N,1)), x])\n",
    "x_test = np.hstack([np.ones((N,1)), x_test])"
   ]
  },
  {
   "cell_type": "markdown",
   "metadata": {},
   "source": [
    "Now on to the regression. First, let's code up the logistic log-likelihood as a separate function. This will come in handy.\n",
    "\n",
    "**Task 1**\n",
    "\n",
    "* Write a function to calculate the log-likelihood of a dataset given a value of $\\boldsymbol\\theta$."
   ]
  },
  {
   "cell_type": "code",
   "execution_count": 3,
   "metadata": {
    "collapsed": true
   },
   "outputs": [],
   "source": [
    "# EDIT THIS FUNCTION\n",
    "def log_likelihood(X, y, theta):\n",
    "    # X: N x D matrix of training inputs\n",
    "    # y: N x 1 vector of training targets/observations\n",
    "    # theta: parameters (D x 1)\n",
    "    # returns: log likelihood, scalar\n",
    "    def sigmoid(x):\n",
    "        return 1 / (1+ np.exp(-x))\n",
    "\n",
    "    N,D = X.shape\n",
    "    log_lik = 0\n",
    "    for i in range(N):\n",
    "        log_lik += ( y[i]*np.log(sigmoid(np.dot(X[i],theta))) + (1-y[i])*np.log(1 - sigmoid(np.dot(X[i],theta))) )\n",
    "    \n",
    "    return log_lik[0] # or squeeze()"
   ]
  },
  {
   "cell_type": "code",
   "execution_count": 4,
   "metadata": {
    "collapsed": false
   },
   "outputs": [
    {
     "data": {
      "text/plain": [
       "-34.65735902799723"
      ]
     },
     "execution_count": 4,
     "metadata": {},
     "output_type": "execute_result"
    }
   ],
   "source": [
    "theta = np.zeros((2,1))\n",
    "log_likelihood(x,y,theta)"
   ]
  },
  {
   "cell_type": "markdown",
   "metadata": {},
   "source": [
    "Now it's time to optimize it to fit the maximum likelihood parameter,\n",
    "\n",
    "$$\\boldsymbol\\theta_{\\mathrm{ML}} = \\mathrm{arg}_\\theta \\max p(\\boldsymbol y | \\boldsymbol X, \\boldsymbol\\theta)$$\n",
    "\n",
    "For linear regression, the likelihood function had a closed-form minimum, which made our lives easy. Alas, that is not the case for logistic regression. We will have to resort to _numerical optimization_.\n",
    "\n",
    "In the lectures you saw how to derive the gradient and all that jazz. For this tutorial you can do it that way, or any other way you want. The optimization is convex, so this should be easy peasy.\n",
    "\n",
    "**Task 2**\n",
    "\n",
    "* Write a function to optimize the log-likelihood function you've written above an obtain $\\boldsymbol\\theta_{\\mathrm{ML}}$. Use any optimizer of your choice."
   ]
  },
  {
   "cell_type": "code",
   "execution_count": 5,
   "metadata": {
    "collapsed": true
   },
   "outputs": [],
   "source": [
    "## EDIT THIS FUNCTION\n",
    "def max_lik_estimate(X, y):# add theta to the arguments???\n",
    "    # X: N x D matrix of training inputs\n",
    "    # y: N x 1 vector of training targets/observations\n",
    "    # returns: maximum likelihood parameters (D x 1)\n",
    "    def sigmoid(x):\n",
    "        return 1 / (1+ np.exp(-x))\n",
    "\n",
    "    \n",
    "    N, D = X.shape\n",
    "    assert(y.shape == (N,1))\n",
    "    \n",
    "    mu = np.zeros((N,1))    \n",
    "    theta_ml = np.zeros((D,1)) \n",
    "    \n",
    "    lr = 0.001\n",
    "    for i in range(1000):\n",
    "        mu = sigmoid(np.dot(X,theta_ml))\n",
    "        gradient = np.dot((mu-y).T, X)\n",
    "        theta_ml -= lr * gradient.T\n",
    "    assert (mu.shape == (N,1))                       \n",
    "    return theta_ml  "
   ]
  },
  {
   "cell_type": "code",
   "execution_count": 6,
   "metadata": {
    "collapsed": false
   },
   "outputs": [
    {
     "data": {
      "text/plain": [
       "array([[-1.53592116],\n",
       "       [ 2.55767596]])"
      ]
     },
     "execution_count": 6,
     "metadata": {},
     "output_type": "execute_result"
    }
   ],
   "source": [
    "max_lik_estimate(x,y)"
   ]
  },
  {
   "cell_type": "code",
   "execution_count": 7,
   "metadata": {
    "collapsed": false
   },
   "outputs": [
    {
     "name": "stdout",
     "output_type": "stream",
     "text": [
      "0.76\n",
      "[[-1.1013897  1.927046 ]]\n"
     ]
    },
    {
     "name": "stderr",
     "output_type": "stream",
     "text": [
      "/usr/lib/python3/dist-packages/sklearn/utils/validation.py:526: DataConversionWarning: A column-vector y was passed when a 1d array was expected. Please change the shape of y to (n_samples, ), for example using ravel().\n",
      "  y = column_or_1d(y, warn=True)\n"
     ]
    }
   ],
   "source": [
    "# test with sklearn\n",
    "from sklearn.linear_model import LogisticRegression\n",
    "logreg = LogisticRegression(fit_intercept=False, max_iter = 1000) \n",
    "logreg.fit(x,y)\n",
    "print(logreg.score(x,y))\n",
    "print(logreg.coef_)\n"
   ]
  },
  {
   "cell_type": "markdown",
   "metadata": {},
   "source": [
    "**Task 3**\n",
    "\n",
    "* Write a predict function to evaluate your estimate."
   ]
  },
  {
   "cell_type": "code",
   "execution_count": 8,
   "metadata": {
    "collapsed": false
   },
   "outputs": [],
   "source": [
    "## EDIT THIS FUNCTION\n",
    "def predict(X_test, theta):\n",
    "    # Xtest: K x D matrix of test inputs\n",
    "    # theta: D x 1 vector of parameters\n",
    "    # returns: prediction of f(Xtest); K x 1 vector  \n",
    "    def sigmoid(x):\n",
    "        return 1 / (1+ np.exp(-x))\n",
    "\n",
    "    K, D = X_test.shape\n",
    "    assert(theta.shape == (D,1))\n",
    "    \n",
    "    p = np.zeros((K,1))\n",
    "    prediction = np.zeros((K,1))\n",
    "    threshold = 0.5   \n",
    "    for i in range(K):\n",
    "        inputt = np.dot(-X_test[i].T,theta)\n",
    "        p[i] = sigmoid(inputt)\n",
    "        if (p[i]>=threshold):\n",
    "            prediction[i] = 1\n",
    "        else:\n",
    "            prediction[i] = 0        \n",
    "    assert (prediction.shape == (K,1))\n",
    "    return prediction "
   ]
  },
  {
   "cell_type": "code",
   "execution_count": 9,
   "metadata": {
    "collapsed": false
   },
   "outputs": [],
   "source": [
    "p = predict(x_test,theta)"
   ]
  },
  {
   "cell_type": "markdown",
   "metadata": {},
   "source": [
    "With this we're in a good position to fit a logistic regression to our toy dataset and start visualising the results. Have a go.\n",
    "\n",
    "1. Use the function you wrote above to estimate $\\boldsymbol\\theta_{\\mathrm{ML}}$ on the toy dataset.\n",
    "2. Visualize the results, including:\n",
    "    1. The data $x$ and target labels $y$. \n",
    "    2. The labels predicted by the model.\n",
    "    3. The probability assigned by the model, $\\sigma(x\\theta)$ as a function of $x$."
   ]
  },
  {
   "cell_type": "code",
   "execution_count": 10,
   "metadata": {
    "collapsed": false
   },
   "outputs": [
    {
     "data": {
      "image/png": "[encoded data removed]",
      "text/plain": [
       "<matplotlib.figure.Figure at 0x7f0aaada4e80>"
      ]
     },
     "metadata": {},
     "output_type": "display_data"
    }
   ],
   "source": [
    "#original dataset\n",
    "plt.xlabel(\"Input X: Original Dataset\")\n",
    "plt.title(\"Visualization of the dataset X\")\n",
    "\n",
    "for i in range(N):\n",
    "    if y[i]== 0:\n",
    "        plt.scatter(x[i,1], y[i], c =\"red\", marker=\"+\")\n",
    "\n",
    "    else:\n",
    "        plt.scatter(x[i,1], y[i], c =\"green\", marker=\"+\")\n",
    "        \n",
    "plt.show()"
   ]
  },
  {
   "cell_type": "code",
   "execution_count": 11,
   "metadata": {
    "collapsed": false
   },
   "outputs": [],
   "source": [
    "## ADD CODE HERE\n",
    "# Fit and plot the logistic regression\n",
    "\n",
    "#plt.xlabel(\"Input X_test: Test dataset\")\n",
    "#for i in range(N):\n",
    "#    if p[i]== 0:\n",
    "#                #plt.scatter(x_test[i,0],x_test[i,1],c =\"green\", marker=\"+\", label=\"Class = 0\")\n",
    "#        plt.scatter(x_test[i,1], y[i], c =\"red\", marker=\"+\")\n",
    "#    else:\n",
    "#        plt.scatter(x_test[i,1], y[i], c =\"green\", marker=\"+\")\n",
    "                #plt.scatter(x_test[i,0],x_test[i,1],c =\"red\", marker=\"+\")  \n",
    "        \n",
    "#plt.show()"
   ]
  },
  {
   "cell_type": "code",
   "execution_count": 12,
   "metadata": {
    "collapsed": false,
    "scrolled": true
   },
   "outputs": [
    {
     "data": {
      "image/png": "[encoded data removed]",
      "text/plain": [
       "<matplotlib.figure.Figure at 0x7f0a6762f2e8>"
      ]
     },
     "metadata": {},
     "output_type": "display_data"
    }
   ],
   "source": [
    "def sigmoid(x):\n",
    "    return 1 / (1+ np.exp(-x))\n",
    "\n",
    "theta_ml = max_lik_estimate(x, y)\n",
    "\n",
    "#prediction_y = predict(x, theta_ml)\n",
    "# and plot the result\n",
    "plt.figure(1, figsize=(8, 5))\n",
    "plt.clf()\n",
    "\n",
    "for i in range(N):\n",
    "    if y[i]== 0:\n",
    "        plt.scatter(x_test[i,1], y[i], c =\"green\", marker=\"+\")\n",
    "    else:\n",
    "        plt.scatter(x_test[i,1], y[i],c =\"red\", marker=\"+\")  \n",
    "\n",
    "\n",
    "sig = sigmoid(x_test @ theta_ml)\n",
    "plt.plot(x_test[:,1], sig, color='blue', linewidth=1)\n",
    "\n",
    "plt.ylabel('$\\sigma: sigmoid $')\n",
    "plt.xlabel('X')\n",
    "plt.ylim(-.1, 1.25)\n",
    "plt.xlim(-3, 4)\n",
    "#plt.plot(0.5,3)\n",
    "plt.show()"
   ]
  },
  {
   "cell_type": "code",
   "execution_count": 13,
   "metadata": {
    "collapsed": true
   },
   "outputs": [],
   "source": [
    "# comparison between MLE and MAP in time\n",
    "#import time\n",
    "#"
   ]
  },
  {
   "cell_type": "markdown",
   "metadata": {},
   "source": [
    "There you go! That should be a nice and easy fit. There are a few things we can start playing with at this point:\n",
    "\n",
    "* Evaluate the performance of your model: plot the decision boundary, likelihood and accuracy on held-out test sets, etc.\n",
    "* Write a gradient-based and a non-gradient-based optimizer. Do they arrive at the same result? Which one takes longer? Which one evaluates the likelihood function more times?\n",
    "\n",
    "(Warning: if the plot looks odd and you get several warnings, it may be that the data is linearly separable and the sigmoid is saturating, leading to `np.log(0)` numerical problems. Add more noise and retry.)"
   ]
  },
  {
   "cell_type": "markdown",
   "metadata": {},
   "source": [
    "## Bayesian logistic regression"
   ]
  },
  {
   "cell_type": "markdown",
   "metadata": {},
   "source": [
    "### MAP estimate"
   ]
  },
  {
   "cell_type": "markdown",
   "metadata": {},
   "source": [
    "Now let's move to Bayesian inference on the parameters $\\boldsymbol\\theta$. Let's put a prior on them. Because that's what we do. We put priors on things.\n",
    "\n",
    "More specifically, let's use a Gaussian prior parametrized by a mean $\\boldsymbol m$ and a variance $\\boldsymbol S$:\n",
    "\n",
    "$$\\boldsymbol\\theta \\sim  \\mathcal{N}(\\boldsymbol m, \\boldsymbol S)$$\n",
    "\n",
    "Given that $\\boldsymbol\\theta_{\\mathrm{ML}}$ had no analytical solution, it should really come as no surprise that $\\boldsymbol\\theta_{\\mathrm{MAP}}$ doesn't either. That should be no problem for a machine learning expert like you:\n",
    "\n",
    "**Task 4**\n",
    "\n",
    "1. Write down the equation for the full unnormalized posterior $p(\\boldsymbol\\theta | \\boldsymbol X, \\boldsymbol y) \\propto p(\\boldsymbol y | \\boldsymbol\\theta, \\boldsymbol X) p(\\boldsymbol\\theta)$.\n",
    "2. Write a separate function for it, as we did with the log-likelihood above.\n",
    "3. Optimize it to find $\\boldsymbol\\theta_{\\mathrm{MAP}}$ and use it to make predictions."
   ]
  },
  {
   "cell_type": "code",
   "execution_count": 14,
   "metadata": {
    "collapsed": false
   },
   "outputs": [
    {
     "data": {
      "text/plain": [
       "(2, 2)"
      ]
     },
     "execution_count": 14,
     "metadata": {},
     "output_type": "execute_result"
    }
   ],
   "source": [
    "#m = [0.0, 0.0]\n",
    "m = np.zeros((D, 1))\n",
    "S = 5*np.eye(D)\n",
    "S.shape"
   ]
  },
  {
   "cell_type": "code",
   "execution_count": 15,
   "metadata": {
    "collapsed": true
   },
   "outputs": [],
   "source": [
    "## EDIT THIS FUNCTION    \n",
    "def map_estimate(X, y, m, S):\n",
    "    # X: N x D matrix of training inputs\n",
    "    # y: N x 1 vector of training targets/observations\n",
    "    # m: D x 1 prior mean of parameters\n",
    "    # S: D x D prior covariance of parameters\n",
    "    # returns: maximum a posteriori parameters (D x 1)\n",
    "    def log_map_estimate(X, y, m, S):\n",
    "        # X: N x D matrix of training inputs\n",
    "        # y: N x 1 vector of training targets/observations\n",
    "        # theta: parameters (D x 1)\n",
    "        # returns: log likelihood, scalar\n",
    "\n",
    "        N,D = X.shape\n",
    "        assert(y.shape == (N,1))  \n",
    "        theta = np.zeros((D,1))\n",
    "\n",
    "        log_lik = log_likelihood(X,y,theta)\n",
    "        prob = 0\n",
    "        for i in range(N):\n",
    "            prob += stats.multivariate_normal.pdf(X[i], m, S, allow_singular= True)\n",
    "        log_prior = np.log(prob)\n",
    "\n",
    "        log_map = log_lik + log_prior\n",
    "        assert (log_map.shape == (D,1))\n",
    "        return log_map\n",
    "\n",
    "\n",
    "    def sigmoid(x):\n",
    "        return 1 / (1+ np.exp(-x))\n",
    "\n",
    "    \n",
    "    N, D = X.shape\n",
    "    assert(y.shape == (N,1))\n",
    "    \n",
    "    mu = np.zeros((N,1))    \n",
    "    theta_map = np.zeros((D,1))     \n",
    "    lr = 0.001\n",
    "    for i in range(1000):\n",
    "        mu = sigmoid(np.dot(X,theta_map))\n",
    "        d_log_lik = np.dot((mu-y).T, X)\n",
    "        d_log_map = (-0.5 * ((theta_map - m).T @ linalg.inv(S)))\n",
    "        gradient = d_log_lik + d_log_map\n",
    "        theta_map -= lr * gradient.T  \n",
    "    assert (mu.shape == (N,1) and theta_map.shape == (D,1))                       \n",
    "    return theta_map"
   ]
  },
  {
   "cell_type": "code",
   "execution_count": 16,
   "metadata": {
    "collapsed": false
   },
   "outputs": [
    {
     "data": {
      "text/plain": [
       "array([[-1.60463692],\n",
       "       [ 2.65984111]])"
      ]
     },
     "execution_count": 16,
     "metadata": {},
     "output_type": "execute_result"
    }
   ],
   "source": [
    "map_estimate(x,y,m,S)"
   ]
  },
  {
   "cell_type": "markdown",
   "metadata": {},
   "source": [
    "Now you can perform a similar model evaluation as you did before. How does your prior influence the MAP estimate and the model's performance?"
   ]
  },
  {
   "cell_type": "code",
   "execution_count": 17,
   "metadata": {
    "collapsed": false
   },
   "outputs": [
    {
     "data": {
      "image/png": "[encoded data removed]",
      "text/plain": [
       "<matplotlib.figure.Figure at 0x7f0a675dc400>"
      ]
     },
     "metadata": {},
     "output_type": "display_data"
    }
   ],
   "source": [
    "## ADD CODE HERE\n",
    "def predict_map(X_test, theta):\n",
    "    # Xtest: K x D matrix of test inputs\n",
    "    # theta: D x 1 vector of parameters\n",
    "    # returns: prediction of f(Xtest); K x 1 vector \n",
    "    def sigmoid(x):\n",
    "        return 1 / (1+ np.exp(-x))\n",
    "\n",
    "    K, D = X_test.shape\n",
    "    assert(theta.shape == (D,1))\n",
    "    \n",
    "    p = np.zeros((K,1))\n",
    "    prediction = np.zeros((K,1))\n",
    "    threshold = 0.5   # the mean of p (vector of sigmoid function)\n",
    "    for i in range(K):\n",
    "        inputt = np.dot(-X_test[i].T,theta_map)\n",
    "        p[i] = sigmoid(inputt)\n",
    "        if (p[i]>=threshold):\n",
    "            prediction[i] = 1\n",
    "        else:\n",
    "            prediction[i] = 0        \n",
    "    \n",
    "    return prediction \n",
    "\n",
    "theta_map = map_estimate(x,y,m,S)\n",
    "pred_map = predict_map(x_test,theta_map)\n",
    "\n",
    "plt.figure(1, figsize=(8, 5))\n",
    "\n",
    "for i in range(N):\n",
    "    if y[i]== 0:\n",
    "        plt.scatter(x_test[i,1], y[i], c =\"green\", marker=\"+\")\n",
    "    else:\n",
    "        plt.scatter(x_test[i,1], y[i],c =\"red\", marker=\"+\")  \n",
    "\n",
    "loss = sigmoid(x_test @ theta_map)\n",
    "plt.plot(x_test[:,1], loss, color='blue', linewidth=1)\n",
    "\n",
    "plt.ylabel('$\\sigma: sigmoid $')\n",
    "plt.xlabel('X')\n",
    "plt.xticks(range(-5, 10))\n",
    "plt.yticks([0, 0.5, 1])\n",
    "plt.ylim(-0.1, 1.1)\n",
    "plt.xlim(-3, 4)\n",
    "plt.show()"
   ]
  },
  {
   "cell_type": "markdown",
   "metadata": {},
   "source": [
    "### The Laplace approximation"
   ]
  },
  {
   "cell_type": "markdown",
   "metadata": {},
   "source": [
    "As we have hinted above, in logistic regression the posterior distribution over $\\boldsymbol\\theta$ doesn't have an analytical solution. This is the first example in the course of _approximate Bayesian inference_: The exact posterior is analytically intractable so that we have to approximate it using one of various techniques. The one we'll use in this part of the tutorial is called the **Laplace approximation**.\n",
    "\n",
    "In brief, **the Laplace approximation is a Gaussian centered at the peak of the pdf of interest with the same curvature**. Let's make this a bit more rigorous below.\n",
    "\n",
    "Let's say we have a probability distribution $p(\\boldsymbol z)$ we want to approximate. The distribution $p(\\boldsymbol z)$ is of the form\n",
    "\n",
    "$$p(\\boldsymbol z) = \\frac{1}{Z} \\tilde{p}(\\boldsymbol z) ~ ,$$\n",
    "\n",
    "where $\\tilde{p}(\\boldsymbol z)$ is an unnormalized distribution that we can evaluate easily, but $Z$ is unknown. Formally, the Laplace approximation results from a second-order Taylor expansion of $\\log \\tilde{p}(\\boldsymbol z)$ around $\\boldsymbol  z_0$:\n",
    "\n",
    "$$\\log \\tilde{p}(\\boldsymbol z) \\approx \\log \\tilde{p}(\\boldsymbol z_0) + \\frac{d}{d\\boldsymbol z}\\log \\tilde{p}(\\boldsymbol z)\\Big|_{\\boldsymbol z=\\boldsymbol z_0}(\\boldsymbol z -\\boldsymbol  z_0) + \\frac{1}{2}(\\boldsymbol z-\\boldsymbol z_0)^\\top\\frac{d^2}{d\\boldsymbol z^2} \\log \\tilde{p}(\\boldsymbol z)\\Big|_{\\boldsymbol z=\\boldsymbol z_0}(\\boldsymbol z-\\boldsymbol z_0)$$\n",
    "\n",
    "Now let's evaluate this expression at the mode of $p(\\boldsymbol z)$ &ndash; which is the same as the mode of $\\tilde{p}(\\boldsymbol z)$. We define the mode $\\boldsymbol z^*$ such that\n",
    "\n",
    "$$\\frac{d}{d\\boldsymbol z} \\tilde{p}(\\boldsymbol z) \\Big|_{\\boldsymbol z = \\boldsymbol z^*} = \\boldsymbol 0 ~ .$$\n",
    "\n",
    "At this point, the $\\mathcal{O}(\\boldsymbol z)$ term of the expansion vanishes and we are left with\n",
    "\n",
    "$$\\log \\tilde{p}(\\boldsymbol z) \\approx \\log \\tilde{p}(\\boldsymbol z^*) - \\frac{1}{2}(\\boldsymbol z-\\boldsymbol z^*)^\\top\\boldsymbol A(\\boldsymbol z-\\boldsymbol z^*)$$\n",
    "\n",
    "Or, equivalently,\n",
    "\n",
    "$$\\tilde{p}(\\boldsymbol z) \\approx \\tilde{p}(\\boldsymbol z^*) \\exp\\big(-\\tfrac{1}{2}(\\boldsymbol z - \\boldsymbol z^*)^\\top\\boldsymbol A(\\boldsymbol z - \\boldsymbol z^*)\\big) ~ ,$$\n",
    "\n",
    "where\n",
    "\n",
    "$$\\boldsymbol A = - \\frac{d^2}{d\\boldsymbol z^2} \\log \\tilde{p}(\\boldsymbol z)\\Big|_{\\boldsymbol z=\\boldsymbol z^*} ~ .$$\n",
    "\n",
    "And now this distribution we know how to normalize, because it's one of those Gaussians we know and love. By inspection, we can identify the mean and the covariance, and write down the Laplace approximation of $p(\\boldsymbol z)$ as\n",
    "\n",
    "$$q(\\boldsymbol z) = \\mathcal{N}(\\boldsymbol z | \\boldsymbol z^*, \\boldsymbol A^{-1})$$"
   ]
  },
  {
   "cell_type": "markdown",
   "metadata": {},
   "source": [
    "As an example, let's use the unnormalized distribution $\\tilde{p}(z) = x e^{-x/2}$. When normalized properly, this is in fact the $\\chi^2$ distribution with $k=4$ degrees of freedom. Have a go yourself:\n",
    "\n",
    "1. Plot $p(z)$.\n",
    "2. Take the first derivative of $\\tilde{p}(z)$ (or the first derivative of its log), and find its maximum $z^*$ analytically.\n",
    "3. In the same plot, draw a vertical line at $z = z^*$ to verify you got the right answer.\n",
    "4. Take the second derivative of $\\log \\tilde{p}(z)$ and evaluate it at $z^*$.\n",
    "5. Plot the corresponding Gaussian $q(z)$ and verify the approximation looks reasonable.\n",
    "\n",
    "**Task 5**\n",
    "\n",
    "* Write a function that evaluates the Laplace approximation $q(z)$."
   ]
  },
  {
   "cell_type": "code",
   "execution_count": 18,
   "metadata": {
    "collapsed": true
   },
   "outputs": [],
   "source": [
    "## EDIT THIS FUNCTION\n",
    "def laplace_q(z):\n",
    "    # z: double array of size (T,)\n",
    "    # returns: array with Laplace approximation q evaluated\n",
    "    #          at all points in z\n",
    "    \n",
    "    A_inv = 4\n",
    "    z_star = 2    \n",
    "    c = 1 / np.sqrt(2*np.pi*A_inv)\n",
    "    d = -(1/8) *((z-2)**2)    \n",
    "    q = c*np.exp(d)    \n",
    "    return q"
   ]
  },
  {
   "cell_type": "code",
   "execution_count": 19,
   "metadata": {
    "collapsed": false
   },
   "outputs": [
    {
     "data": {
      "text/plain": [
       "<matplotlib.legend.Legend at 0x7f0a676d2550>"
      ]
     },
     "execution_count": 19,
     "metadata": {},
     "output_type": "execute_result"
    },
    {
     "data": {
      "image/png": "[encoded data removed]",
      "text/plain": [
       "<matplotlib.figure.Figure at 0x7f0a67683e48>"
      ]
     },
     "metadata": {},
     "output_type": "display_data"
    }
   ],
   "source": [
    "## ADD CODE HERE\n",
    "# Find the Laplace approximation of x*exp(-x/2) with pen and paper and then plot it.\n",
    "plt.figure(figsize=[10,8])\n",
    "z = np.linspace(0,10)\n",
    "q = laplace_q(z)\n",
    "p = stats.chi2.pdf(z, 4)\n",
    "plt.plot(z,p)\n",
    "plt.plot(z,q)\n",
    "plt.legend([\"Chi2\",\"Laplace\"])"
   ]
  },
  {
   "cell_type": "markdown",
   "metadata": {},
   "source": [
    "### Bayesian logistic regression (for real this time)"
   ]
  },
  {
   "cell_type": "markdown",
   "metadata": {},
   "source": [
    "Now we have obtained the mode (peak) of the posterior through the MAP estimate above, it's time to go all the way and calculate the posterior over $\\boldsymbol\\theta$. However, as we mentioned above the posterior doesn't have an analytical form, so we'll use &ndash; you guessed it &ndash; the Laplace transform.\n",
    "\n",
    "**Task 6**\n",
    "\n",
    "* Write a function, based on your previous code, that will calculate the Laplace approximation $q(\\boldsymbol\\theta)$ of the true posterior $p(\\boldsymbol\\theta | \\boldsymbol X, \\boldsymbol y)$ and return the mean and variance of $q$.\n",
    "\n",
    "To visualize the behavior and the diversity of $q$, draw a number $j = 1, ..., J$ of samples $\\boldsymbol\\theta_j \\sim q(\\boldsymbol\\theta)$. For each sample, plot its predicted class probabilities $\\sigma(x \\boldsymbol\\theta_j)$.\n",
    "\n",
    "_Hint_: the extension of the Laplace approximation to multivariate distributions is straightforward, and in this case the variance of the Gaussian is the Hessian of the negative log likelihood $\\boldsymbol A = - \\nabla_\\theta \\nabla_\\theta \\log p(\\boldsymbol\\theta | \\boldsymbol X, \\boldsymbol y)$."
   ]
  },
  {
   "cell_type": "code",
   "execution_count": 20,
   "metadata": {
    "collapsed": true
   },
   "outputs": [],
   "source": [
    "## EDIT THIS FUNCTION\n",
    "def get_posterior(X, y, m, S):\n",
    "    # X: N x D matrix of training inputs\n",
    "    # y: N x 1 vector of training targets/observations\n",
    "    # m: D x 1 prior mean of parameters\n",
    "    # S: D x D prior covariance of parameters\n",
    "    # returns: maximum a posteriori parameters (D x 1)\n",
    "    #          covariance of Laplace approximation (D x D)\n",
    "    def sigmoid(x):\n",
    "        return 1 / (1+ np.exp(-x))\n",
    "\n",
    "\n",
    "    mu_post = map_estimate(X, y, m, S)\n",
    "    sig = sigmoid(X @ mu_post)\n",
    "    S_post  = ((sig * (1 - sig)).T @ X) + np.linalg.inv(S)\n",
    "    \n",
    "    assert (mu_post.shape == (D,1) and S_post.shape ==(D,D))\n",
    "    return mu_post, S_post"
   ]
  },
  {
   "cell_type": "code",
   "execution_count": 21,
   "metadata": {
    "collapsed": false
   },
   "outputs": [],
   "source": [
    "mu_post, S_post = get_posterior(x,y,m,S)"
   ]
  },
  {
   "cell_type": "code",
   "execution_count": 22,
   "metadata": {
    "collapsed": false
   },
   "outputs": [
    {
     "name": "stderr",
     "output_type": "stream",
     "text": [
      "/usr/lib/python3/dist-packages/scipy/stats/_multivariate.py:533: RuntimeWarning: covariance is not symmetric positive-semidefinite.\n",
      "  out = random_state.multivariate_normal(mean, cov, size)\n"
     ]
    },
    {
     "data": {
      "image/png": "[encoded data removed]",
      "text/plain": [
       "<matplotlib.figure.Figure at 0x7f0a6762f5c0>"
      ]
     },
     "metadata": {},
     "output_type": "display_data"
    }
   ],
   "source": [
    "## ADD CODE HERE\n",
    "# Calculate the Laplace approximation of the posterior for theta, \n",
    "# draw a few samples and plot the corresponding likelihood functions \n",
    "# for each one.\n",
    "def sigmoid(x):\n",
    "    return 1 / (1+ np.exp(-x))\n",
    "\n",
    "m = np.zeros((D, 1))\n",
    "S = 5*np.eye(D)\n",
    "nb_samples = 5\n",
    "plt.figure(figsize=[10,8])\n",
    "theta_map, S_post = get_posterior(x, y, m, S)\n",
    "plt.scatter(x[:,1], y)\n",
    "for i in range(nb_samples):\n",
    "    s = stats.multivariate_normal.rvs(theta_map.ravel(), S_post)\n",
    "    sigmo = sigmoid(x @ s )\n",
    "    plt.scatter(x[:,1], sigmo, marker=\"x\") ## <--EDIT THIS LINE\n",
    "plt.show()"
   ]
  },
  {
   "cell_type": "markdown",
   "metadata": {
    "collapsed": true
   },
   "source": [
    "## Comparing posterior approximations"
   ]
  },
  {
   "cell_type": "markdown",
   "metadata": {},
   "source": [
    "The Laplace approximation is part of a family of methods known as _deterministic approximate inference_. In addition, there's another set of methods known as _stochastic approximate inference_ which, as you can guess includes most of the sampling techniques you have studied.\n",
    "\n",
    "You must be an expert in sampling by now. Let's actually go and check whether this Laplace approximation we just made is legit.\n",
    "\n",
    "* What sampling methods do you know to sample from an unnormalized distribution?\n",
    "\n",
    "For example, let's try the Metropolis algorithm.\n",
    "\n",
    "1. Write a proposal function to move in $\\boldsymbol\\theta$-space.\n",
    "2. Write a function to accept or reject new proposals based on the Metropolis criterion.\n",
    "3. Write a loop and run the Markov chain for a few thousand iterations.\n",
    "4. Check that the sampling worked: did the Markov chain mix properly? What's the acceptance rate? How does it depend on the proposal function?\n",
    "\n",
    "**Task 7**\n",
    "\n",
    "* Write a function to sample from the true posterior $p(\\boldsymbol\\theta | \\boldsymbol X, \\boldsymbol y)$."
   ]
  },
  {
   "cell_type": "code",
   "execution_count": 23,
   "metadata": {
    "collapsed": true
   },
   "outputs": [],
   "source": [
    "def posterior_sample(X, y, m, S, nb_iter):\n",
    "    # X: N x D matrix of training inputs\n",
    "    # y: N x 1 vector of training targets/observations\n",
    "    # m: D x 1 prior mean of parameters\n",
    "    # S: D x D prior covariance of parameters\n",
    "    # returns: nb_iter x D matrix of posterior samples\n",
    "    def prior(theta,m,S):\n",
    "        A = np.power(2*np.pi, -D/2)\n",
    "        B = np.power(linalg.det(S), -1/2)\n",
    "        C = (((-1/2)* (theta-m).T @ linalg.inv(S) @ (theta-m))).squeeze()\n",
    "        gs = (A* B * np.exp(C)).squeeze()\n",
    "\n",
    "        return gs \n",
    "\n",
    "    def likelihood(X, y, theta):\n",
    "        ll_1 = 1\n",
    "        for i in range(N):\n",
    "            E_1 = (sigmoid(X[i].T @ theta))**y[i]\n",
    "            F_1 = (1-sigmoid(X[i].T @ theta))**(1-y[i])\n",
    "            ll_1 *= (E_1 @ F_1)\n",
    "        return ll_1\n",
    "\n",
    "    N, D = X.shape\n",
    "    samples = np.zeros((nb_iter, D))\n",
    "    theta_cur = np.random.multivariate_normal(m.ravel(),S)\n",
    "    samples[0,:] = theta_cur\n",
    "    for i in range(1, nb_iter):\n",
    "        theta_cand = np.random.multivariate_normal(theta_cur.ravel(), S)\n",
    "        p1 = likelihood(X, y, theta_cand ) * prior(theta_cand, m.ravel(), S)\n",
    "        p2 = likelihood(X, y, theta_cur) * prior(theta_cur, m.ravel(), S)\n",
    "        p3 = stats.multivariate_normal.pdf(theta_cur, theta_cand.ravel(), S)\n",
    "        p4 = stats.multivariate_normal.pdf(theta_cand, theta_cur.ravel(), S)\n",
    "        p =  (p1 * p3)/(p2 * p4)\n",
    "       \n",
    "        if p > 1:\n",
    "            p = 1\n",
    "        u = np.random.uniform(0,1)\n",
    "        if u < p:\n",
    "            theta_cur = theta_cand\n",
    "        samples[i,:] = theta_cur\n",
    "    \n",
    "    assert(samples.shape ==(nb_iter,D))\n",
    "    return samples"
   ]
  },
  {
   "cell_type": "code",
   "execution_count": 24,
   "metadata": {
    "collapsed": false
   },
   "outputs": [
    {
     "data": {
      "text/plain": [
       "array([[ 2.83561933,  2.2787072 ],\n",
       "       [ 2.83561933,  2.2787072 ],\n",
       "       [ 1.65702131,  0.95922206],\n",
       "       [ 0.77717703,  0.49363648],\n",
       "       [ 0.77717703,  0.49363648],\n",
       "       [ 0.77717703,  0.49363648],\n",
       "       [ 0.77717703,  0.49363648],\n",
       "       [ 0.77717703,  0.49363648],\n",
       "       [ 0.77717703,  0.49363648],\n",
       "       [ 0.77717703,  0.49363648],\n",
       "       [ 0.77717703,  0.49363648],\n",
       "       [ 0.77717703,  0.49363648],\n",
       "       [ 0.77717703,  0.49363648],\n",
       "       [ 0.77717703,  0.49363648],\n",
       "       [ 0.77211344,  0.4478949 ],\n",
       "       [ 0.77211344,  0.4478949 ],\n",
       "       [ 0.77211344,  0.4478949 ],\n",
       "       [ 0.77211344,  0.4478949 ],\n",
       "       [ 0.77211344,  0.4478949 ],\n",
       "       [-0.9013393 ,  0.88490448],\n",
       "       [-0.9013393 ,  0.88490448],\n",
       "       [-0.9013393 ,  0.88490448],\n",
       "       [-0.9013393 ,  0.88490448],\n",
       "       [-0.82320253,  1.42866221],\n",
       "       [-0.82320253,  1.42866221]])"
      ]
     },
     "execution_count": 24,
     "metadata": {},
     "output_type": "execute_result"
    }
   ],
   "source": [
    "posterior_sample(x,y,m,S,25)"
   ]
  },
  {
   "cell_type": "markdown",
   "metadata": {},
   "source": [
    "Finally, let's plot the results and see if both inference methods arrive at roughly the same posterior.\n",
    "\n",
    "In the same axis, plot\n",
    "\n",
    "* The histogram pdf of the MCMC samples (you may want to look at the `density` option in `plt.hist`); and\n",
    "* The Laplace posterior.\n",
    "\n",
    "Make one plot for the intercept ($\\theta_0$) and one for the slope ($\\theta_1$). What do they look like? Do they match? What kinds of posteriors do you think the Laplace approximation will be good or bad at approximating?"
   ]
  },
  {
   "cell_type": "code",
   "execution_count": 25,
   "metadata": {
    "collapsed": false,
    "scrolled": true
   },
   "outputs": [
    {
     "data": {
      "text/plain": [
       "[<matplotlib.lines.Line2D at 0x7f0a67391a20>]"
      ]
     },
     "execution_count": 25,
     "metadata": {},
     "output_type": "execute_result"
    },
    {
     "data": {
      "image/png": "[encoded data removed]",
      "text/plain": [
       "<matplotlib.figure.Figure at 0x7f0a6768e278>"
      ]
     },
     "metadata": {},
     "output_type": "display_data"
    }
   ],
   "source": [
    "## ADD CODE HERE\n",
    "# Plot a histogram of the MCMC posterior samples and the\n",
    "# analytical expression for the Laplace posterior. If\n",
    "# everything went well, the peaks should coincide and\n",
    "# their widths should be comparable.\n",
    "nb_iter = 10000\n",
    "samples = posterior_sample(x, y, m, S, nb_iter)\n",
    "samples_theta0 = samples[:,0]\n",
    "samples_theta1= samples[:,1]\n",
    "plt.figure(figsize=(6,6))\n",
    "plt.hist(samples_theta0, normed=True)\n",
    "plt.hist(samples_theta1, color='green', normed=True)\n",
    "z = np.linspace(-4,4, 100)\n",
    "plt.plot(z, stats.multivariate_normal.pdf(z, mu_post[0], S_post[0,0]))\n",
    "plt.plot(z, stats.multivariate_normal.pdf(z, mu_post[1], S_post[1,1]))\n"
   ]
  },
  {
   "cell_type": "markdown",
   "metadata": {},
   "source": [
    "Et violà! Now you're an expert in logistic regression. (Wait, I think that's a big violin. I meant to say: et voilà!)\n",
    "\n",
    "Now we can visualize the posterior we can play around with the data and the inference parameters:\n",
    "\n",
    "* Play around with the data generation process. What happens as you increase/decrease $N$ and the jitter parameter?\n",
    "* What does the joint posterior look like? Make a visualization of the MCMC and Laplace approximations in the $(\\theta_0, \\theta_1)$ plane.\n",
    "* What happens if the model is misspecified? Take out the intercept term in the model (i.e., remove the column of ones in $\\boldsymbol X$), but set the `offset` in the data generation process to non-zero. What happens to the posterior and its Laplace approximation?\n"
   ]
  },
  {
   "cell_type": "code",
   "execution_count": null,
   "metadata": {
    "collapsed": true
   },
   "outputs": [],
   "source": []
  }
 ],
 "metadata": {
  "kernelspec": {
   "display_name": "Python 3",
   "language": "python",
   "name": "python3"
  },
  "language_info": {
   "codemirror_mode": {
    "name": "ipython",
    "version": 3
   },
   "file_extension": ".py",
   "mimetype": "text/x-python",
   "name": "python",
   "nbconvert_exporter": "python",
   "pygments_lexer": "ipython3",
   "version": "3.5.3"
  }
 },
 "nbformat": 4,
 "nbformat_minor": 2
}
