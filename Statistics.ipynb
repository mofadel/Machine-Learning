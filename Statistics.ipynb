{
 "cells": [
  {
   "cell_type": "code",
   "execution_count": 55,
   "metadata": {
    "collapsed": true
   },
   "outputs": [],
   "source": [
    "import numpy as np\n",
    "import math\n",
    "from math import factorial"
   ]
  },
  {
   "cell_type": "code",
   "execution_count": 101,
   "metadata": {
    "collapsed": false
   },
   "outputs": [],
   "source": [
    "\"\"\"a) Write a python function predD(nTotal, nWhite) that returns the posterior over\n",
    "the number of white balls in the bag for Davina’s model, given a sample of size\n",
    "nTotal, of which nWhite are white. Your function should return a vector of length\n",
    "11 where the ith element is the probability that the ball contains i white balls.\n",
    "\"\"\"\n",
    "\n",
    "def combination(n, p):\n",
    "    \n",
    "    return factorial(n)/(factorial(p)*factorial(n-p))    \n",
    "    \n",
    "def predD(nTotal, nWhite):\n",
    "    \n",
    "    prior = np.array([1/11,1/11,1/11,1/11,1/11,1/11,1/11,1/11,1/11,1/11,1/11])\n",
    "    likelihood =[]\n",
    "    for i in range(11):\n",
    "        likelihood.append(combination(nTotal, nWhite) * np.power(i/10, nWhite) * np.power(1-i/10, nTotal-nWhite))\n",
    "    evidence = np.sum(likelihood*prior)\n",
    "    posterior = (likelihood * prior) / evidence\n",
    "    return posterior"
   ]
  },
  {
   "cell_type": "code",
   "execution_count": 102,
   "metadata": {
    "collapsed": true
   },
   "outputs": [],
   "source": [
    "def evidenceD(nTotal, nWhite):\n",
    "    \n",
    "    prior = np.array([1/11,1/11,1/11,1/11,1/11,1/11,1/11,1/11,1/11,1/11,1/11])\n",
    "    likelihood =[]\n",
    "    for i in range(11):\n",
    "        likelihood.append(combination(nTotal, nWhite) * np.power(i/11, nWhite) * np.power(1-i/11, nTotal-nWhite))\n",
    "    evidence = np.sum(likelihood * prior)\n",
    "    return evidence\n",
    "\n",
    "def evidenceB(nTotal, nWhite):\n",
    "    \n",
    "    prior = np.array([1/4,0,0,0,0,1/2,0,0,0,0,1/4])\n",
    "    likelihood =[]\n",
    "    for i in range(11):\n",
    "        likelihood.append(combination(nTotal, nWhite) * np.power(i/10, nWhite) * np.power(1-i/10, nTotal-nWhite))\n",
    "    evidence = np.sum(likelihood * prior)\n",
    "    return evidence"
   ]
  },
  {
   "cell_type": "code",
   "execution_count": 103,
   "metadata": {
    "collapsed": false
   },
   "outputs": [
    {
     "data": {
      "text/plain": [
       "0.090911815925555653"
      ]
     },
     "execution_count": 103,
     "metadata": {},
     "output_type": "execute_result"
    }
   ],
   "source": [
    "evidenceD(10,4)"
   ]
  },
  {
   "cell_type": "code",
   "execution_count": 104,
   "metadata": {
    "collapsed": true
   },
   "outputs": [],
   "source": [
    "\"\"\"b) Write a python function evidence evidenceC(nTotal, nWhite) that returns the\n",
    "model evidence for Charlotte’s model.\n",
    "\"\"\"\n",
    "\n",
    "def evidenceC(nTotal, nWhite):\n",
    "    \n",
    "    prior = np.array([1/6,0,1/6,0,1/6,0,1/6,0,1/6,0,1/6])\n",
    "    #likelihood = [combination(nTotal, nWhite) * np.power(i/10, nWhite) * np.power(1-i/10, nTotal-nWhite) for i in range(11)]\n",
    "    likelihood =[]\n",
    "    for i in range(11):\n",
    "        likelihood.append(combination(nTotal, nWhite) * np.power(i/10, nWhite) * np.power(1-i/10, nTotal-nWhite))\n",
    "    evidence = np.sum(likelihood * prior)\n",
    "    return evidence"
   ]
  },
  {
   "cell_type": "code",
   "execution_count": 105,
   "metadata": {
    "collapsed": false
   },
   "outputs": [
    {
     "data": {
      "text/plain": [
       "0.075980800000000001"
      ]
     },
     "execution_count": 105,
     "metadata": {},
     "output_type": "execute_result"
    }
   ],
   "source": [
    "evidenceC(10,4)"
   ]
  },
  {
   "cell_type": "code",
   "execution_count": 106,
   "metadata": {
    "collapsed": true
   },
   "outputs": [],
   "source": [
    "\"\"\"c) Andrew decides to select 20 balls (with replacement).\n",
    "Show the evidence for each model for every possible data set (i.e. all the 21\n",
    "possible outcomes) using a scatter graph. Use the same graph for each. Don’t use\n",
    "a log-scale or join up the points.\n",
    "\"\"\"\n",
    "\n",
    "def evidenceBethany():\n",
    "    \n",
    "    tab_evidenceBethany = []\n",
    "    for i in range(21):\n",
    "        tab_evidenceBethany.append(evidenceB(20,i))\n",
    "    return tab_evidenceBethany\n",
    "    \n",
    "    \n",
    "def evidenceCharlotte():\n",
    "    \n",
    "    tab_evidenceCharlotte = []\n",
    "    for i in range(21):\n",
    "        tab_evidenceCharlotte.append(evidenceC(20,i))\n",
    "    return tab_evidenceCharlotte\n",
    "\n",
    "def evidenceDavina():\n",
    "    \n",
    "    tab_evidenceDavina = []\n",
    "    for i in range(21):\n",
    "        tab_evidenceDavina.append(evidenceD(20,i))\n",
    "    return tab_evidenceDavina\n"
   ]
  },
  {
   "cell_type": "code",
   "execution_count": 107,
   "metadata": {
    "collapsed": true
   },
   "outputs": [],
   "source": [
    "def predC(nTotal, nWhite):\n",
    "    \n",
    "    prior = np.array([1/6,0,1/6,0,1/6,0,1/6,0,1/6,0,1/6])\n",
    "    likelihood =[]    \n",
    "    for i in range(11):\n",
    "        likelihood.append(combination(nTotal, nWhite) * np.power(i/10, nWhite) * np.power(1-i/10, nTotal-nWhite))\n",
    "    evidence = np.sum(likelihood * prior)\n",
    "    posterior = (likelihood * prior) / evidence\n",
    "    return posterior\n",
    "\n",
    "def predB(nTotal, nWhite):\n",
    "    \n",
    "    prior = np.array([1/4,0,0,0,0,1/2,0,0,0,0,1/4])\n",
    "    likelihood =[]    \n",
    "    for i in range(11):\n",
    "        likelihood.append(combination(nTotal, nWhite) * np.power(i/10, nWhite) * np.power(1-i/10, nTotal-nWhite))\n",
    "    evidence = np.sum(likelihood*prior)\n",
    "    posterior = (likelihood * prior) / evidence\n",
    "    return posterior"
   ]
  },
  {
   "cell_type": "code",
   "execution_count": 108,
   "metadata": {
    "collapsed": false
   },
   "outputs": [
    {
     "data": {
      "image/png": "[encoded data removed]",
      "text/plain": [
       "<matplotlib.figure.Figure at 0x7f735e722c88>"
      ]
     },
     "metadata": {},
     "output_type": "display_data"
    }
   ],
   "source": [
    "import matplotlib.pyplot as plt\n",
    "\n",
    "dim = [ i for i in range(21)]     #abscisse x\n",
    "\n",
    "evidDavina = evidenceDavina()        #ordonnee y correspondante\n",
    "evidCharlotte = evidenceCharlotte()  #ordonnee y correspondante\n",
    "evidBethany = evidenceBethany()      #ordonnee y correspondante\n",
    "\n",
    "\n",
    "p1 = plt.scatter(dim, evidDavina, marker='+', edgecolor='black')\n",
    "p2 = plt.scatter(dim, evidBethany, marker='.', edgecolor='red')\n",
    "p3 = plt.scatter(dim, evidCharlotte, marker='*', edgecolor='green')\n",
    "\n",
    "plt.legend([p1,p2,p3],[\"Evidence for Davina's model\",\"Evidence for Bethany's model\",\"Evidence for Charlotte's model\"])\n",
    "plt.show()"
   ]
  },
  {
   "cell_type": "code",
   "execution_count": 115,
   "metadata": {
    "collapsed": true
   },
   "outputs": [],
   "source": [
    "\"\"\"d)Andrew selects 20 balls (with replacement) and 13 are white.\n",
    "Make a table of the posterior probabilities over the 11 different possibilities under\n",
    "each model, given the observed data. State also the predictive distribution of the\n",
    "next ball using the full posterior and also the plug-in MAP estimate for each\n",
    "model.\n",
    "\"\"\"\n",
    "\n",
    "def postTableDavina():\n",
    "    \n",
    "    prior = np.array([1/11,1/11,1/11,1/11,1/11,1/11,1/11,1/11,1/11,1/11,1/11])\n",
    "    likelihood =[]\n",
    "    for i in range(11):\n",
    "        likelihood.append(combination(20, 13) * np.power(i/10, 13) * np.power(1-i/10, 7))\n",
    "    evidence = np.sum(likelihood*prior)\n",
    "    tableDavina = (likelihood * prior) / evidence\n",
    "    return tableDavina\n",
    "\n",
    "def postTableCharlotte():\n",
    "    \n",
    "    prior = np.array([1/6,0,1/6,0,1/6,0,1/6,0,1/6,0,1/6])\n",
    "    likelihood =[]\n",
    "    for i in range(11):\n",
    "        likelihood.append(combination(20, 13) * np.power(i/10, 13) * np.power(1-i/10, 7))\n",
    "    evidence = np.sum(likelihood * prior)\n",
    "    tableCharlotte = likelihood * prior /evidence\n",
    "    return tableCharlotte\n",
    "\n",
    "def postTableBethany():\n",
    "    prior = np.array([1/4,0,0,0,0,1/2,0,0,0,0,1/4])\n",
    "    likelihood =[]\n",
    "    for i in range(11):\n",
    "        likelihood.append(combination(20, 13) * np.power(i/10, 13) * np.power(1-i/10, 7))\n",
    "    evidence = np.sum(likelihood * prior)\n",
    "    tableBethany = likelihood*prior/evidence\n",
    "    return tableBethany"
   ]
  },
  {
   "cell_type": "code",
   "execution_count": 122,
   "metadata": {
    "collapsed": false
   },
   "outputs": [
    {
     "name": "stdout",
     "output_type": "stream",
     "text": [
      "MAP Estimate:  6\n"
     ]
    },
    {
     "data": {
      "text/plain": [
       "(array([  0.00000000e+00,   7.78633801e-09,   2.79676219e-05,\n",
       "          2.13746139e-03,   3.05825945e-02,   1.55251489e-01,\n",
       "          3.48354866e-01,   3.44952256e-01,   1.14555379e-01,\n",
       "          4.13797926e-03,   0.00000000e+00]), None)"
      ]
     },
     "execution_count": 122,
     "metadata": {},
     "output_type": "execute_result"
    }
   ],
   "source": [
    "postTableDavina(),print(\"MAP Estimate: \",np.argmax(postTableDavina()))"
   ]
  },
  {
   "cell_type": "code",
   "execution_count": 123,
   "metadata": {
    "collapsed": false
   },
   "outputs": [
    {
     "name": "stdout",
     "output_type": "stream",
     "text": [
      "MAP Estimate:  6\n"
     ]
    },
    {
     "data": {
      "text/plain": [
       "(array([  0.00000000e+00,   0.00000000e+00,   5.66695902e-05,\n",
       "          0.00000000e+00,   6.19681968e-02,   0.00000000e+00,\n",
       "          7.05856492e-01,   0.00000000e+00,   2.32118641e-01,\n",
       "          0.00000000e+00,   0.00000000e+00]), None)"
      ]
     },
     "execution_count": 123,
     "metadata": {},
     "output_type": "execute_result"
    }
   ],
   "source": [
    "postTableCharlotte(),print(\"MAP Estimate: \",np.argmax(postTableCharlotte()))"
   ]
  },
  {
   "cell_type": "code",
   "execution_count": 124,
   "metadata": {
    "collapsed": false
   },
   "outputs": [
    {
     "name": "stdout",
     "output_type": "stream",
     "text": [
      "MAP Estimate:  5\n"
     ]
    },
    {
     "data": {
      "text/plain": [
       "(array([ 0.,  0.,  0.,  0.,  0.,  1.,  0.,  0.,  0.,  0.,  0.]), None)"
      ]
     },
     "execution_count": 124,
     "metadata": {},
     "output_type": "execute_result"
    }
   ],
   "source": [
    "postTableBethany(),print(\"MAP Estimate: \",np.argmax(postTableBethany()))"
   ]
  },
  {
   "cell_type": "code",
   "execution_count": null,
   "metadata": {
    "collapsed": true
   },
   "outputs": [],
   "source": []
  }
 ],
 "metadata": {
  "kernelspec": {
   "display_name": "Python 3",
   "language": "python",
   "name": "python3"
  },
  "language_info": {
   "codemirror_mode": {
    "name": "ipython",
    "version": 3
   },
   "file_extension": ".py",
   "mimetype": "text/x-python",
   "name": "python",
   "nbconvert_exporter": "python",
   "pygments_lexer": "ipython3",
   "version": "3.5.3"
  }
 },
 "nbformat": 4,
 "nbformat_minor": 2
}
